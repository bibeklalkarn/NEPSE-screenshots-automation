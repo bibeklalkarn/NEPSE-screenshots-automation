{
 "cells": [
  {
   "cell_type": "code",
   "execution_count": 1,
   "metadata": {},
   "outputs": [
    {
     "data": {
      "text/plain": [
       "'AKBSL'"
      ]
     },
     "execution_count": 1,
     "metadata": {},
     "output_type": "execute_result"
    }
   ],
   "source": [
    "list = ['ACLBSL','AKBSL','ADBL','AIL','AKJCL','API','AMFI','AKPL','AHPC','AVU','ALBSL','ALICL','BOKL','BARUN','BFC','BHBL','BSL','BBC','BNL','BNT','BNHC','BPCL','BSM','CMB','CHDC','CFCL','CCBL','CGH','CBBL','CHL','CHCL','CZBIL','CIT','CMF1','CMF2','CEFL','CBL','CLBSl','CORBL','CFL','DDBL','DHPL','EBL','EBLCP','EIC','EDBL','FMDBL','FHL','FOWAD','GMFBS','GDBL','GBBL','GIC','GHL','GGBSL','GBIME','LD86/87','GILB','GIMES1','GFCL','GRU','GBLBS','GRDBL','GLH','GMFIL','GLBSL','GLICL','GUFL','HAMRO','HBT','HATH','HDHPC','HURJA','HBL','HDL','HFL','HGI','HPPL','HIDCL','ICFC','IGI','ILBS','JFL','JBNL','JSLBB','JBLB','JOSHI','JBBL','JLI','JSM','KMCDB','KPCL','KSBBL','KNBL','KRBL','KKHC','KLBSL','KBL','KEF','LFC','LBL','LEMF','LLBS','LUK','LEC','LICN','LBBL','LGIL','MBL','MBJC','MLBL','MLBSL','MSMBS','MSLB','MKJC','MKLB','MFIL','MLBS','MEGA','MMF1','MERO','MMFDB','MDB','MLBBL','MEN','MHNL','MNBBL','MPFL','NBF2','NBF3','NABIL','NBLD85','NEF','NADEP','NABBC','NHPC','NLICL','NMFBS','NSLB','NIL','NAGRO','NBB','NBL','NBBU','NCCB','NTC','NFD','NFS','NHDL','NIFRA','NICL','NIB','NKU','NLIC','NLO','NRIC','SBI','NSM','NTL','NVG','NWC','NLBBL','NGPL','NIBLPF','NIBSF2','NIBSF1','NICBF','NICA','NICGF','NICLBSL','NICD88','NICSF','NIDC','NUBL','NLG','NMBMF','NMB50','NMB','NMBD87/88','NMBEB92/93','NMBHF1','NRN','NYADI','ODBL','OHL','PMHPL','PPCL','PFL','PRVU','PRIN','PLI','PSF','PIC','PCBL','PLIC','PROFL','PICL','RADHI','RJM','RRHP','RBCL','RHPL','RMF1','RLFL','RLI','RHPC','RMDC','RSDC','RURU','SABSL','SDLBSL','SIC','SHBL','SAHAS','SBBLJ','STC','SAMAJ','SMATA','SFC','SPC','SFCL','SLBSL','SKBBL','SANIMA','SAEF','SGI','SLCF','SLI','SHPC','SJCL','SAPDBL','SDBD87','SADBL','SICL','SHINE','SSHL','SHIVM','SBPP','SIFC','SRS','SFFIL','SBL','SEF','SEOS','SIL','SIGS2','SINDU','SHEL','SHL','SPARS','SCB','SMFDB','SRBL','SBCF','SFMF','SMB','SLICL','SLBS','SWBBL','SMFBS','SDESI','SLBBL','SYFL','SPDL','TRH','TPC','TMDBL','UNL','UNHPL','ULI','UFL','UMRH','UIC','UMHL','UPCL','USLB','UPPER','VLBS','WNLB','WOMI','YHL']\n",
    "\n",
    "list[1]"
   ]
  },
  {
   "cell_type": "code",
   "execution_count": 13,
   "metadata": {},
   "outputs": [],
   "source": [
    "from selenium import webdriver\n",
    "from selenium.webdriver.common.keys import Keys\n",
    "import time\n",
    "from datetime import datetime\n",
    "import os\n",
    "from selenium.webdriver.common.action_chains import ActionChains\n",
    "from selenium.webdriver.common.by import By\n",
    "import numpy as np"
   ]
  },
  {
   "cell_type": "code",
   "execution_count": 17,
   "metadata": {
    "scrolled": true
   },
   "outputs": [
    {
     "name": "stderr",
     "output_type": "stream",
     "text": [
      "C:\\Users\\bivek\\AppData\\Local\\Temp\\ipykernel_11932\\3407663830.py:12: DeprecationWarning: executable_path has been deprecated, please pass in a Service object\n",
      "  driver = webdriver.Chrome(path, chrome_options=opt)\n",
      "C:\\Users\\bivek\\AppData\\Local\\Temp\\ipykernel_11932\\3407663830.py:12: DeprecationWarning: use options instead of chrome_options\n",
      "  driver = webdriver.Chrome(path, chrome_options=opt)\n"
     ]
    },
    {
     "name": "stdout",
     "output_type": "stream",
     "text": [
      "0\n",
      "1\n",
      "2\n",
      "3\n",
      "4\n",
      "5\n",
      "6\n",
      "7\n"
     ]
    },
    {
     "ename": "NoSuchWindowException",
     "evalue": "Message: no such window: target window already closed\nfrom unknown error: web view not found\n  (Session info: chrome=112.0.5615.86)\nStacktrace:\nBacktrace:\n\tGetHandleVerifier [0x0031DCE3+50899]\n\t(No symbol) [0x002AE111]\n\t(No symbol) [0x001B5588]\n\t(No symbol) [0x0019D333]\n\t(No symbol) [0x001FF4DB]\n\t(No symbol) [0x0020DB33]\n\t(No symbol) [0x001FB6F6]\n\t(No symbol) [0x001D7708]\n\t(No symbol) [0x001D886D]\n\tGetHandleVerifier [0x00583EAE+2566302]\n\tGetHandleVerifier [0x005B92B1+2784417]\n\tGetHandleVerifier [0x005B327C+2759788]\n\tGetHandleVerifier [0x003B5740+672048]\n\t(No symbol) [0x002B8872]\n\t(No symbol) [0x002B41C8]\n\t(No symbol) [0x002B42AB]\n\t(No symbol) [0x002A71B7]\n\tBaseThreadInitThunk [0x76A37D49+25]\n\tRtlInitializeExceptionChain [0x76F9B74B+107]\n\tRtlClearBits [0x76F9B6CF+191]\n",
     "output_type": "error",
     "traceback": [
      "\u001b[1;31m---------------------------------------------------------------------------\u001b[0m",
      "\u001b[1;31mNoSuchWindowException\u001b[0m                     Traceback (most recent call last)",
      "Cell \u001b[1;32mIn [17], line 46\u001b[0m\n\u001b[0;32m     44\u001b[0m time\u001b[38;5;241m.\u001b[39msleep(\u001b[38;5;241m2\u001b[39m)\n\u001b[0;32m     45\u001b[0m savepath \u001b[38;5;241m=\u001b[39m os\u001b[38;5;241m.\u001b[39mpath\u001b[38;5;241m.\u001b[39mjoin(newpath, \u001b[38;5;28mstr\u001b[39m(\u001b[38;5;28mlist\u001b[39m[i])\u001b[38;5;241m+\u001b[39m\u001b[38;5;124m\"\u001b[39m\u001b[38;5;124m.png\u001b[39m\u001b[38;5;124m\"\u001b[39m)\n\u001b[1;32m---> 46\u001b[0m \u001b[43mdriver\u001b[49m\u001b[38;5;241;43m.\u001b[39;49m\u001b[43mget_screenshot_as_file\u001b[49m\u001b[43m(\u001b[49m\u001b[43msavepath\u001b[49m\u001b[43m)\u001b[49m\n\u001b[0;32m     47\u001b[0m time\u001b[38;5;241m.\u001b[39msleep(\u001b[38;5;241m0.5\u001b[39m)\n\u001b[0;32m     48\u001b[0m i\u001b[38;5;241m+\u001b[39m\u001b[38;5;241m=\u001b[39m\u001b[38;5;241m1\u001b[39m\n",
      "File \u001b[1;32m~\\.conda\\envs\\share\\Lib\\site-packages\\selenium\\webdriver\\remote\\webdriver.py:893\u001b[0m, in \u001b[0;36mWebDriver.get_screenshot_as_file\u001b[1;34m(self, filename)\u001b[0m\n\u001b[0;32m    888\u001b[0m \u001b[38;5;28;01mif\u001b[39;00m \u001b[38;5;129;01mnot\u001b[39;00m \u001b[38;5;28mstr\u001b[39m(filename)\u001b[38;5;241m.\u001b[39mlower()\u001b[38;5;241m.\u001b[39mendswith(\u001b[38;5;124m\"\u001b[39m\u001b[38;5;124m.png\u001b[39m\u001b[38;5;124m\"\u001b[39m):\n\u001b[0;32m    889\u001b[0m     warnings\u001b[38;5;241m.\u001b[39mwarn(\n\u001b[0;32m    890\u001b[0m         \u001b[38;5;124m\"\u001b[39m\u001b[38;5;124mname used for saved screenshot does not match file \u001b[39m\u001b[38;5;124m\"\u001b[39m \u001b[38;5;124m\"\u001b[39m\u001b[38;5;124mtype. It should end with a `.png` extension\u001b[39m\u001b[38;5;124m\"\u001b[39m,\n\u001b[0;32m    891\u001b[0m         \u001b[38;5;167;01mUserWarning\u001b[39;00m,\n\u001b[0;32m    892\u001b[0m     )\n\u001b[1;32m--> 893\u001b[0m png \u001b[38;5;241m=\u001b[39m \u001b[38;5;28;43mself\u001b[39;49m\u001b[38;5;241;43m.\u001b[39;49m\u001b[43mget_screenshot_as_png\u001b[49m\u001b[43m(\u001b[49m\u001b[43m)\u001b[49m\n\u001b[0;32m    894\u001b[0m \u001b[38;5;28;01mtry\u001b[39;00m:\n\u001b[0;32m    895\u001b[0m     \u001b[38;5;28;01mwith\u001b[39;00m \u001b[38;5;28mopen\u001b[39m(filename, \u001b[38;5;124m\"\u001b[39m\u001b[38;5;124mwb\u001b[39m\u001b[38;5;124m\"\u001b[39m) \u001b[38;5;28;01mas\u001b[39;00m f:\n",
      "File \u001b[1;32m~\\.conda\\envs\\share\\Lib\\site-packages\\selenium\\webdriver\\remote\\webdriver.py:927\u001b[0m, in \u001b[0;36mWebDriver.get_screenshot_as_png\u001b[1;34m(self)\u001b[0m\n\u001b[0;32m    919\u001b[0m \u001b[38;5;28;01mdef\u001b[39;00m \u001b[38;5;21mget_screenshot_as_png\u001b[39m(\u001b[38;5;28mself\u001b[39m) \u001b[38;5;241m-\u001b[39m\u001b[38;5;241m>\u001b[39m \u001b[38;5;28mbytes\u001b[39m:\n\u001b[0;32m    920\u001b[0m     \u001b[38;5;124;03m\"\"\"Gets the screenshot of the current window as a binary data.\u001b[39;00m\n\u001b[0;32m    921\u001b[0m \n\u001b[0;32m    922\u001b[0m \u001b[38;5;124;03m    :Usage:\u001b[39;00m\n\u001b[1;32m   (...)\u001b[0m\n\u001b[0;32m    925\u001b[0m \u001b[38;5;124;03m            driver.get_screenshot_as_png()\u001b[39;00m\n\u001b[0;32m    926\u001b[0m \u001b[38;5;124;03m    \"\"\"\u001b[39;00m\n\u001b[1;32m--> 927\u001b[0m     \u001b[38;5;28;01mreturn\u001b[39;00m b64decode(\u001b[38;5;28;43mself\u001b[39;49m\u001b[38;5;241;43m.\u001b[39;49m\u001b[43mget_screenshot_as_base64\u001b[49m\u001b[43m(\u001b[49m\u001b[43m)\u001b[49m\u001b[38;5;241m.\u001b[39mencode(\u001b[38;5;124m\"\u001b[39m\u001b[38;5;124mascii\u001b[39m\u001b[38;5;124m\"\u001b[39m))\n",
      "File \u001b[1;32m~\\.conda\\envs\\share\\Lib\\site-packages\\selenium\\webdriver\\remote\\webdriver.py:938\u001b[0m, in \u001b[0;36mWebDriver.get_screenshot_as_base64\u001b[1;34m(self)\u001b[0m\n\u001b[0;32m    929\u001b[0m \u001b[38;5;28;01mdef\u001b[39;00m \u001b[38;5;21mget_screenshot_as_base64\u001b[39m(\u001b[38;5;28mself\u001b[39m) \u001b[38;5;241m-\u001b[39m\u001b[38;5;241m>\u001b[39m \u001b[38;5;28mstr\u001b[39m:\n\u001b[0;32m    930\u001b[0m     \u001b[38;5;124;03m\"\"\"Gets the screenshot of the current window as a base64 encoded string\u001b[39;00m\n\u001b[0;32m    931\u001b[0m \u001b[38;5;124;03m    which is useful in embedded images in HTML.\u001b[39;00m\n\u001b[0;32m    932\u001b[0m \n\u001b[1;32m   (...)\u001b[0m\n\u001b[0;32m    936\u001b[0m \u001b[38;5;124;03m            driver.get_screenshot_as_base64()\u001b[39;00m\n\u001b[0;32m    937\u001b[0m \u001b[38;5;124;03m    \"\"\"\u001b[39;00m\n\u001b[1;32m--> 938\u001b[0m     \u001b[38;5;28;01mreturn\u001b[39;00m \u001b[38;5;28;43mself\u001b[39;49m\u001b[38;5;241;43m.\u001b[39;49m\u001b[43mexecute\u001b[49m\u001b[43m(\u001b[49m\u001b[43mCommand\u001b[49m\u001b[38;5;241;43m.\u001b[39;49m\u001b[43mSCREENSHOT\u001b[49m\u001b[43m)\u001b[49m[\u001b[38;5;124m\"\u001b[39m\u001b[38;5;124mvalue\u001b[39m\u001b[38;5;124m\"\u001b[39m]\n",
      "File \u001b[1;32m~\\.conda\\envs\\share\\Lib\\site-packages\\selenium\\webdriver\\remote\\webdriver.py:440\u001b[0m, in \u001b[0;36mWebDriver.execute\u001b[1;34m(self, driver_command, params)\u001b[0m\n\u001b[0;32m    438\u001b[0m response \u001b[38;5;241m=\u001b[39m \u001b[38;5;28mself\u001b[39m\u001b[38;5;241m.\u001b[39mcommand_executor\u001b[38;5;241m.\u001b[39mexecute(driver_command, params)\n\u001b[0;32m    439\u001b[0m \u001b[38;5;28;01mif\u001b[39;00m response:\n\u001b[1;32m--> 440\u001b[0m     \u001b[38;5;28;43mself\u001b[39;49m\u001b[38;5;241;43m.\u001b[39;49m\u001b[43merror_handler\u001b[49m\u001b[38;5;241;43m.\u001b[39;49m\u001b[43mcheck_response\u001b[49m\u001b[43m(\u001b[49m\u001b[43mresponse\u001b[49m\u001b[43m)\u001b[49m\n\u001b[0;32m    441\u001b[0m     response[\u001b[38;5;124m\"\u001b[39m\u001b[38;5;124mvalue\u001b[39m\u001b[38;5;124m\"\u001b[39m] \u001b[38;5;241m=\u001b[39m \u001b[38;5;28mself\u001b[39m\u001b[38;5;241m.\u001b[39m_unwrap_value(response\u001b[38;5;241m.\u001b[39mget(\u001b[38;5;124m\"\u001b[39m\u001b[38;5;124mvalue\u001b[39m\u001b[38;5;124m\"\u001b[39m, \u001b[38;5;28;01mNone\u001b[39;00m))\n\u001b[0;32m    442\u001b[0m     \u001b[38;5;28;01mreturn\u001b[39;00m response\n",
      "File \u001b[1;32m~\\.conda\\envs\\share\\Lib\\site-packages\\selenium\\webdriver\\remote\\errorhandler.py:245\u001b[0m, in \u001b[0;36mErrorHandler.check_response\u001b[1;34m(self, response)\u001b[0m\n\u001b[0;32m    243\u001b[0m         alert_text \u001b[38;5;241m=\u001b[39m value[\u001b[38;5;124m\"\u001b[39m\u001b[38;5;124malert\u001b[39m\u001b[38;5;124m\"\u001b[39m]\u001b[38;5;241m.\u001b[39mget(\u001b[38;5;124m\"\u001b[39m\u001b[38;5;124mtext\u001b[39m\u001b[38;5;124m\"\u001b[39m)\n\u001b[0;32m    244\u001b[0m     \u001b[38;5;28;01mraise\u001b[39;00m exception_class(message, screen, stacktrace, alert_text)  \u001b[38;5;66;03m# type: ignore[call-arg]  # mypy is not smart enough here\u001b[39;00m\n\u001b[1;32m--> 245\u001b[0m \u001b[38;5;28;01mraise\u001b[39;00m exception_class(message, screen, stacktrace)\n",
      "\u001b[1;31mNoSuchWindowException\u001b[0m: Message: no such window: target window already closed\nfrom unknown error: web view not found\n  (Session info: chrome=112.0.5615.86)\nStacktrace:\nBacktrace:\n\tGetHandleVerifier [0x0031DCE3+50899]\n\t(No symbol) [0x002AE111]\n\t(No symbol) [0x001B5588]\n\t(No symbol) [0x0019D333]\n\t(No symbol) [0x001FF4DB]\n\t(No symbol) [0x0020DB33]\n\t(No symbol) [0x001FB6F6]\n\t(No symbol) [0x001D7708]\n\t(No symbol) [0x001D886D]\n\tGetHandleVerifier [0x00583EAE+2566302]\n\tGetHandleVerifier [0x005B92B1+2784417]\n\tGetHandleVerifier [0x005B327C+2759788]\n\tGetHandleVerifier [0x003B5740+672048]\n\t(No symbol) [0x002B8872]\n\t(No symbol) [0x002B41C8]\n\t(No symbol) [0x002B42AB]\n\t(No symbol) [0x002A71B7]\n\tBaseThreadInitThunk [0x76A37D49+25]\n\tRtlInitializeExceptionChain [0x76F9B74B+107]\n\tRtlClearBits [0x76F9B6CF+191]\n"
     ]
    }
   ],
   "source": [
    "\n",
    "opt = webdriver.ChromeOptions()\n",
    "\n",
    "opt.add_argument(\"start-maximized\")\n",
    "opt.add_experimental_option(\"prefs\",{\n",
    "    \"profile.default_content_setting_values.notifications\":2\n",
    "})\n",
    "\n",
    "\n",
    "\n",
    "path='C:/bin/chromedriver.exe' #this is the path where you have kept your chromedriver.exe\n",
    "\n",
    "driver = webdriver.Chrome(path, chrome_options=opt)\n",
    "actions = ActionChains(driver)\n",
    "\n",
    "driver.get(\"https://nepsealpha.com/trading/chart\")\n",
    "time.sleep(1)\n",
    "\n",
    "tab= driver.find_element(By.TAG_NAME,'body').click()\n",
    "# panel = driver.find_element(By.CSS_SELECTOR, '#custom_top_stocks').click()\n",
    "\n",
    "# close pop up\n",
    "# parent = driver.current_window_handle\n",
    "# uselessWindows = driver.window_handles\n",
    "# for winId in uselessWindows:\n",
    "#     if winId != parent: \n",
    "        \n",
    "#         driver.switch_to.window(winId)\n",
    "#         driver.close()\n",
    "\n",
    "\n",
    "newpath = datetime.today().strftime('%Y-%m-%d')\n",
    "if not os.path.exists(newpath):\n",
    "    os.makedirs(newpath)\n",
    "    \n",
    "time.sleep(10)\n",
    "\n",
    "i=0\n",
    "\n",
    "while(i<len(list)):\n",
    "    print(i)\n",
    "    actions = ActionChains(driver)\n",
    "    actions.send_keys(str(list[i])).send_keys(Keys.ENTER).perform()\n",
    "\n",
    "    time.sleep(2)\n",
    "    savepath = os.path.join(newpath, str(list[i])+\".png\")\n",
    "    driver.get_screenshot_as_file(savepath)\n",
    "    time.sleep(0.5)\n",
    "    i+=1\n",
    "    \n"
   ]
  },
  {
   "cell_type": "code",
   "execution_count": 14,
   "metadata": {},
   "outputs": [
    {
     "data": {
      "text/plain": [
       "'2023-04-16'"
      ]
     },
     "execution_count": 14,
     "metadata": {},
     "output_type": "execute_result"
    }
   ],
   "source": [
    "str(datetime.today().strftime('%Y-%m-%d'))"
   ]
  }
 ],
 "metadata": {
  "kernelspec": {
   "display_name": "share",
   "language": "python",
   "name": "share"
  },
  "language_info": {
   "codemirror_mode": {
    "name": "ipython",
    "version": 3
   },
   "file_extension": ".py",
   "mimetype": "text/x-python",
   "name": "python",
   "nbconvert_exporter": "python",
   "pygments_lexer": "ipython3",
   "version": "3.11.3"
  },
  "vscode": {
   "interpreter": {
    "hash": "ce43c5cdaf007764660de10d172f8e6c31bdcaa1b0051ff8a43ba5dffdc5c65e"
   }
  }
 },
 "nbformat": 4,
 "nbformat_minor": 4
}
